{
  "nbformat": 4,
  "nbformat_minor": 0,
  "metadata": {
    "colab": {
      "provenance": [],
      "authorship_tag": "ABX9TyP8lW2yateqUmTMu7b6I+6p",
      "include_colab_link": true
    },
    "kernelspec": {
      "name": "python3",
      "display_name": "Python 3"
    },
    "language_info": {
      "name": "python"
    }
  },
  "cells": [
    {
      "cell_type": "markdown",
      "metadata": {
        "id": "view-in-github",
        "colab_type": "text"
      },
      "source": [
        "<a href=\"https://colab.research.google.com/github/Juhilhere/Book-Recommender/blob/main/Copy_of_exam15April_juhil.ipynb\" target=\"_parent\"><img src=\"https://colab.research.google.com/assets/colab-badge.svg\" alt=\"Open In Colab\"/></a>"
      ]
    },
    {
      "cell_type": "code",
      "execution_count": null,
      "metadata": {
        "id": "ftDSi5LCgWIj"
      },
      "outputs": [],
      "source": [
        "# Normal Distribution\n",
        "# x = meu + z*/sigma\n",
        "# ===================\n",
        "# from scipy import stats\n",
        "# ans = stats.norm.cdf(z)\n",
        "# ans = stats.norm.ppf(z)"
      ]
    },
    {
      "cell_type": "code",
      "source": [
        "# 2\n",
        "from scipy import stats\n",
        "meu = 170\n",
        "sigma = 10\n",
        "# x = meu + z*sigma\n",
        "x = meu + 1.5*sigma\n",
        "print(x)"
      ],
      "metadata": {
        "colab": {
          "base_uri": "https://localhost:8080/"
        },
        "id": "o_JIKAkGhKfS",
        "outputId": "60fcbb84-7f31-459c-88b7-ce043014bfad"
      },
      "execution_count": null,
      "outputs": [
        {
          "output_type": "stream",
          "name": "stdout",
          "text": [
            "185.0\n"
          ]
        }
      ]
    },
    {
      "cell_type": "code",
      "source": [
        "# POISSON\n",
        "# here we get something per unit of time.\n",
        "# Yaha first se kuch lena-dena nahi hai. Yaha \"X\" no. of quantities so lena-dena hai.\n",
        "# we have to find prob in a given time interval"
      ],
      "metadata": {
        "id": "tpaUwdIX_HVm"
      },
      "execution_count": null,
      "outputs": []
    },
    {
      "cell_type": "code",
      "source": [
        "\n",
        "\n",
        "# Probability of seeing 4 goals in a 90-min match, average is 2.5.\n",
        "from scipy import stats\n",
        "stats.poisson.pmf(k= 3, mu= 2.5)"
      ],
      "metadata": {
        "colab": {
          "base_uri": "https://localhost:8080/"
        },
        "id": "EPSyt-nYlpXA",
        "outputId": "fd096b5e-4b4f-4b5c-fe41-833dec7bd995"
      },
      "execution_count": null,
      "outputs": [
        {
          "output_type": "execute_result",
          "data": {
            "text/plain": [
              "np.float64(0.21376301724973648)"
            ]
          },
          "metadata": {},
          "execution_count": 9
        }
      ]
    },
    {
      "cell_type": "code",
      "source": [
        "# in the above scenerio, what is the prob that more than 5 goals will be scored in a given match ?\n",
        "from scipy import stats\n",
        "ans = 1-(stats.poisson.cdf(k=5, mu= 2.5))\n",
        "print(ans)"
      ],
      "metadata": {
        "id": "xjhiVfy2_E1B",
        "colab": {
          "base_uri": "https://localhost:8080/"
        },
        "outputId": "11da1c1b-46d8-4021-dacf-8d526d16aaa5"
      },
      "execution_count": null,
      "outputs": [
        {
          "output_type": "stream",
          "name": "stdout",
          "text": [
            "0.6671803212492808\n"
          ]
        }
      ]
    },
    {
      "cell_type": "code",
      "source": [
        "# website makes 10 sales per hour, what is the probability that it exactly makes 8 sales ?\n",
        "# Time_scale\n",
        "from scipy import stats\n",
        "stats.poisson.pmf(k=8, mu = 10)"
      ],
      "metadata": {
        "colab": {
          "base_uri": "https://localhost:8080/"
        },
        "id": "h3BYdIr-DJwr",
        "outputId": "5024aa00-1f25-4691-b7ed-9519fb0c34fd"
      },
      "execution_count": null,
      "outputs": [
        {
          "output_type": "execute_result",
          "data": {
            "text/plain": [
              "np.float64(0.11259903214902009)"
            ]
          },
          "metadata": {},
          "execution_count": 13
        }
      ]
    },
    {
      "cell_type": "code",
      "source": [
        "# website makes 10 sales per hour, in the next 3 hours, what is the probability that the site sells more than 25 items?\n",
        "from scipy import stats\n",
        "ans = 1-(stats.poisson.cdf(k=25 , mu=30 ))\n",
        "print(ans)"
      ],
      "metadata": {
        "colab": {
          "base_uri": "https://localhost:8080/"
        },
        "id": "tMNfeZn0EvtO",
        "outputId": "7630fd1d-d707-4cd8-b4bb-6851536c37ab"
      },
      "execution_count": null,
      "outputs": [
        {
          "output_type": "stream",
          "name": "stdout",
          "text": [
            "0.7916426353326671\n"
          ]
        }
      ]
    },
    {
      "cell_type": "code",
      "source": [
        "from scipy import stats\n",
        "stats.poisson.cdf(4, 4)"
      ],
      "metadata": {
        "colab": {
          "base_uri": "https://localhost:8080/"
        },
        "id": "zYiZ1DT_JzWH",
        "outputId": "bc5cadcc-3e7e-41a2-9dc4-b7d0112b4838"
      },
      "execution_count": null,
      "outputs": [
        {
          "output_type": "execute_result",
          "data": {
            "text/plain": [
              "np.float64(0.6288369351798734)"
            ]
          },
          "metadata": {},
          "execution_count": 20
        }
      ]
    },
    {
      "cell_type": "code",
      "source": [
        "from scipy import stats\n",
        "stats.poisson.pmf(k=90, mu=100)"
      ],
      "metadata": {
        "colab": {
          "base_uri": "https://localhost:8080/"
        },
        "id": "uZEzm9_2LrCD",
        "outputId": "9241b4b7-aec1-4bea-eae6-834f6b5d9bf6"
      },
      "execution_count": null,
      "outputs": [
        {
          "output_type": "execute_result",
          "data": {
            "text/plain": [
              "np.float64(0.025038944623030353)"
            ]
          },
          "metadata": {},
          "execution_count": 21
        }
      ]
    },
    {
      "cell_type": "code",
      "source": [
        "# GEOMETRIC AND EXPONENTIAL DISTRIBUTION."
      ],
      "metadata": {
        "id": "rioP7YmiOd2E"
      },
      "execution_count": null,
      "outputs": []
    },
    {
      "cell_type": "code",
      "source": [
        "# GEOMETRIC Destri\n",
        "\n",
        "\n",
        "#   PROBABILITY FOR NO OF TRIALS TO GET 1ST SUCCESS\n",
        "\n",
        "#   \"FIRST\" & \"TRIALS\"\n",
        "#   in x- axis, no. of trials is the parameter\n",
        "\n",
        "#  (Questions ask \"How many tries\" & \"FIRST\").\n",
        "# Here we are trying to find how many Bernaulli (Binary) trials do i need in order to get my first success."
      ],
      "metadata": {
        "id": "QEHEl5bcKRB5"
      },
      "execution_count": null,
      "outputs": []
    },
    {
      "cell_type": "code",
      "source": [
        "# You are tossing a coin. Head is winner, and we have only 1 prize. Find probability that you get head in tries(X) <=7.\n",
        "# x = 7, and prob of getting head in coin is 0.5\n",
        "from scipy import stats\n",
        "stats.geom.pmf(k=7, p = 0.5)"
      ],
      "metadata": {
        "colab": {
          "base_uri": "https://localhost:8080/"
        },
        "id": "rSsdWk1A_Ozn",
        "outputId": "8e2eae45-db9e-458b-9af7-84594d68a640"
      },
      "execution_count": null,
      "outputs": [
        {
          "output_type": "execute_result",
          "data": {
            "text/plain": [
              "np.float64(0.0078125)"
            ]
          },
          "metadata": {},
          "execution_count": 6
        }
      ]
    },
    {
      "cell_type": "code",
      "source": [
        "# In a factory 5% bulbs are defective, prob that we need 1 or 2 bulbs to find 1st defective bulb.\n",
        "from scipy import stats\n",
        "stats.geom.cdf(k=2, p = 0.05)"
      ],
      "metadata": {
        "colab": {
          "base_uri": "https://localhost:8080/"
        },
        "id": "Z0z14704_8bC",
        "outputId": "9fc655eb-f225-4ebe-b160-eae428eb57a9"
      },
      "execution_count": null,
      "outputs": [
        {
          "output_type": "execute_result",
          "data": {
            "text/plain": [
              "np.float64(0.0975)"
            ]
          },
          "metadata": {},
          "execution_count": 8
        }
      ]
    },
    {
      "cell_type": "code",
      "source": [
        "# EXPONENTIAL Destri\n",
        "\n",
        "\n",
        "\n",
        "# PROBABILITY FOR THE FIRST TRIAL IN A GIVEN TIME\n",
        "\n",
        "# \"FIRST\" & \"TIME\"\n",
        "#  in x-axis, time is the parameter\n",
        "\n",
        "\n",
        "# Here x-axis is continous and is related to time taken.\n"
      ],
      "metadata": {
        "id": "XjmIdJ2DETkA"
      },
      "execution_count": null,
      "outputs": []
    },
    {
      "cell_type": "code",
      "source": [
        "# The expected no of goals in a 90 min football match is 2.5(assume Poisson)\n",
        "# if i start watching a match, how long should i wait to see the first goal ?\n",
        "# 36 mins"
      ],
      "metadata": {
        "id": "V7Zzn9HULjtX"
      },
      "execution_count": null,
      "outputs": []
    },
    {
      "cell_type": "code",
      "source": [
        "# what is the prob of seeing the first goal within first 30 mins of the match start\n",
        "from scipy import stats\n",
        "stats.expon.cdf(x=30, scale = 36)"
      ],
      "metadata": {
        "colab": {
          "base_uri": "https://localhost:8080/"
        },
        "id": "VeiLVMVSSiU-",
        "outputId": "f7b66efd-a187-41ff-c637-472ffd1f7712"
      },
      "execution_count": null,
      "outputs": [
        {
          "output_type": "execute_result",
          "data": {
            "text/plain": [
              "np.float64(0.5654017914929218)"
            ]
          },
          "metadata": {},
          "execution_count": 12
        }
      ]
    },
    {
      "cell_type": "code",
      "source": [
        "# what is the prob of seeing the first goal after the 45th min\n",
        "from scipy import stats\n",
        "1-(stats.expon.cdf(x=45, scale = 36))"
      ],
      "metadata": {
        "colab": {
          "base_uri": "https://localhost:8080/"
        },
        "id": "tpwKX69OTDdM",
        "outputId": "fe604698-fdd7-4c3e-a38e-dcf1d24dd521"
      },
      "execution_count": null,
      "outputs": [
        {
          "output_type": "execute_result",
          "data": {
            "text/plain": [
              "np.float64(0.28650479686019015)"
            ]
          },
          "metadata": {},
          "execution_count": 14
        }
      ]
    },
    {
      "cell_type": "code",
      "source": [
        "from scipy import stats\n",
        "stats.expon.cdf(x=20, scale = 50)"
      ],
      "metadata": {
        "colab": {
          "base_uri": "https://localhost:8080/"
        },
        "id": "h0BtYS54VCC3",
        "outputId": "4bdb335b-94c1-4801-d302-f1a9d81faa49"
      },
      "execution_count": null,
      "outputs": [
        {
          "output_type": "execute_result",
          "data": {
            "text/plain": [
              "np.float64(0.3296799539643607)"
            ]
          },
          "metadata": {},
          "execution_count": 15
        }
      ]
    },
    {
      "cell_type": "code",
      "source": [
        "# Imagine you are at a call center.\n",
        "#   You find one of the phones (seats) vacant. So you go and get wired.\n",
        "#   The average waiting time for a call is 5 minutes\n",
        "\n",
        "\n",
        "#   (1) What is the probabilty that you have to wait >6 minutes\n",
        "#       for the next call?\n",
        "\n",
        "from scipy import stats\n",
        "# avg waiting time = 5 min = scale\n",
        "a = 1- stats.expon.cdf(x=6, scale = 5)\n",
        "\n",
        "# ans = 30%. So there is 30% chance that we have to wait for more than 6 mins.\n",
        "\n",
        "#   (2) Let's say you waited 3 minutes (and there was no call received).\n",
        "#       Given this info, what the prob that you have to wait a total\n",
        "#       of >9 mins for your call?\n",
        "\n",
        "b = 1- stats.expon.cdf(x=6, scale = 5)\n",
        "print(b)"
      ],
      "metadata": {
        "colab": {
          "base_uri": "https://localhost:8080/"
        },
        "id": "xcpIHb5yWCBH",
        "outputId": "1ec795fa-aa74-414c-e53e-87fa2ce7d85f"
      },
      "execution_count": null,
      "outputs": [
        {
          "output_type": "stream",
          "name": "stdout",
          "text": [
            "0.3011942119122022\n"
          ]
        }
      ]
    },
    {
      "cell_type": "code",
      "source": [
        "# REVISION OF FORMULAE\n",
        "\n",
        "# poisson\n",
        "# stats.poisson.cdf/pmf(k = asked quantity, mu = avg in that time unit)\n",
        "\n",
        "# geometrical\n",
        "# stats.geom.cdf/pmf(k = no.of tries we want, p = prob of each trial)\n",
        "\n",
        "# exponential\n",
        "# stats.expon.cdf/pmf(x = time in which we want to see first happening, scale = time for the first thing to happen)"
      ],
      "metadata": {
        "id": "xarFd4Mel5ww"
      },
      "execution_count": null,
      "outputs": []
    },
    {
      "cell_type": "code",
      "source": [
        "# QUESTION SOLVING\n",
        "# ASSIGNMENT ON POISSON, GEOEMETRIC, EXPO DISTRO"
      ],
      "metadata": {
        "id": "pGB4a0hnYr4R"
      },
      "execution_count": null,
      "outputs": []
    },
    {
      "cell_type": "code",
      "source": [
        "# 1\n",
        "from scipy import stats\n",
        "# avg 3 failures every 20 weeks,\n",
        "# no more than 1 failure during a week\n",
        "a = 3/20\n",
        "stats.poisson.cdf(k = 1, mu = a)"
      ],
      "metadata": {
        "colab": {
          "base_uri": "https://localhost:8080/"
        },
        "id": "2Xt3j6mynOzd",
        "outputId": "58b98473-2b2e-4fd6-edf7-abe3579be5fe"
      },
      "execution_count": null,
      "outputs": [
        {
          "output_type": "execute_result",
          "data": {
            "text/plain": [
              "np.float64(0.9898141728888165)"
            ]
          },
          "metadata": {},
          "execution_count": 25
        }
      ]
    },
    {
      "cell_type": "code",
      "source": [
        "# 2\n",
        "from scipy import stats\n",
        "stats.poisson.pmf(k = 1, mu = 2)"
      ],
      "metadata": {
        "colab": {
          "base_uri": "https://localhost:8080/"
        },
        "id": "WLQyE6Wwn8yz",
        "outputId": "ec681db8-b714-4798-8523-935efcc391ff"
      },
      "execution_count": null,
      "outputs": [
        {
          "output_type": "execute_result",
          "data": {
            "text/plain": [
              "np.float64(0.2706705664732254)"
            ]
          },
          "metadata": {},
          "execution_count": 26
        }
      ]
    },
    {
      "cell_type": "code",
      "source": [
        "# 3\n",
        "from scipy import stats\n",
        "stats.poisson.cdf(k = 1, mu = 4)"
      ],
      "metadata": {
        "colab": {
          "base_uri": "https://localhost:8080/"
        },
        "id": "WsKThAiupwrb",
        "outputId": "f256c23e-e1e1-4b1f-c1a9-169c7dcfa460"
      },
      "execution_count": null,
      "outputs": [
        {
          "output_type": "execute_result",
          "data": {
            "text/plain": [
              "np.float64(0.0915781944436709)"
            ]
          },
          "metadata": {},
          "execution_count": 34
        }
      ]
    },
    {
      "cell_type": "code",
      "source": [
        "# 4\n",
        "from scipy import stats\n",
        "stats.poisson.pmf(k=25, mu=20)\n",
        "1-stats.poisson.cdf(k=25, mu=20)"
      ],
      "metadata": {
        "colab": {
          "base_uri": "https://localhost:8080/"
        },
        "id": "VPJ4W5YtrJdn",
        "outputId": "6e9ba2e3-acb9-4abc-a0c4-e2f2b7ba9564"
      },
      "execution_count": null,
      "outputs": [
        {
          "output_type": "execute_result",
          "data": {
            "text/plain": [
              "np.float64(0.1121849727179699)"
            ]
          },
          "metadata": {},
          "execution_count": 37
        }
      ]
    },
    {
      "cell_type": "code",
      "source": [
        "# 5\n",
        " from scipy import stats\n",
        " stats.geom(k=, p=)"
      ],
      "metadata": {
        "id": "KGNrm6Nst9hk"
      },
      "execution_count": null,
      "outputs": []
    },
    {
      "cell_type": "code",
      "source": [
        "# 6\n",
        "from scipy import stats\n",
        "mu =5\n",
        "a=stats.expon.cdf(x =4,scale= 5)\n",
        "b=stats.expon.cdf(x =5,scale= 5)\n",
        "print(b-a)"
      ],
      "metadata": {
        "colab": {
          "base_uri": "https://localhost:8080/"
        },
        "id": "avxRf008vy3u",
        "outputId": "0a3e777f-4909-4407-cc48-2d54f3466005"
      },
      "execution_count": null,
      "outputs": [
        {
          "output_type": "stream",
          "name": "stdout",
          "text": [
            "0.08144952294577923\n"
          ]
        }
      ]
    },
    {
      "cell_type": "code",
      "source": [
        "# 7\n",
        "from scipy import stats\n",
        "1 - stats.expon.cdf(x=4, scale = 6 )"
      ],
      "metadata": {
        "colab": {
          "base_uri": "https://localhost:8080/"
        },
        "id": "YOoUv7M6xB3b",
        "outputId": "b4c0d0d8-d5f0-4054-b4a6-09e6ff204b0c"
      },
      "execution_count": null,
      "outputs": [
        {
          "output_type": "execute_result",
          "data": {
            "text/plain": [
              "np.float64(0.513417119032592)"
            ]
          },
          "metadata": {},
          "execution_count": 45
        }
      ]
    },
    {
      "cell_type": "code",
      "source": [
        "# 8\n",
        "from scipy import stats\n",
        "1- stats.expon.cdf(x=600, scale = 1000)"
      ],
      "metadata": {
        "colab": {
          "base_uri": "https://localhost:8080/"
        },
        "id": "W2IXZ2Rf5UXl",
        "outputId": "497e8a2c-1eaa-46e5-fb9d-980c4a39de03"
      },
      "execution_count": null,
      "outputs": [
        {
          "output_type": "execute_result",
          "data": {
            "text/plain": [
              "np.float64(0.5488116360940264)"
            ]
          },
          "metadata": {},
          "execution_count": 46
        }
      ]
    },
    {
      "cell_type": "code",
      "source": [
        "from scipy import stats\n",
        "a = stats.geom.pmf(k=4,p=0.2)\n",
        "b = 1-stats.geom.cdf(k=6, p=0.2)\n",
        "print(a, b)"
      ],
      "metadata": {
        "colab": {
          "base_uri": "https://localhost:8080/"
        },
        "id": "Zf0UmrZm7TuF",
        "outputId": "339067c0-ed77-4ada-bcd5-c2d5568c3b77"
      },
      "execution_count": null,
      "outputs": [
        {
          "output_type": "stream",
          "name": "stdout",
          "text": [
            "0.10240000000000003 0.26214399999999993\n"
          ]
        }
      ]
    },
    {
      "cell_type": "code",
      "source": [],
      "metadata": {
        "id": "mk6-uAC57-gq"
      },
      "execution_count": null,
      "outputs": []
    }
  ]
}